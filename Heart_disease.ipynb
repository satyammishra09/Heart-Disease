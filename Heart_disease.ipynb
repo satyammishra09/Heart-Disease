{
 "cells": [
  {
   "cell_type": "code",
   "execution_count": 423,
   "metadata": {},
   "outputs": [],
   "source": [
    "#importing libraries\n",
    "import pandas as pd\n",
    "import numpy as np\n",
    "import matplotlib.pyplot as plt\n",
    "%matplotlib inline \n",
    "import seaborn as sns\n",
    "from sklearn.linear_model import LogisticRegression\n",
    "from sklearn.model_selection import train_test_split\n",
    "from sklearn import preprocessing\n",
    "from sklearn.metrics import classification_report,accuracy_score,roc_curve,confusion_matrix\n",
    "from sklearn.preprocessing import binarize"
   ]
  },
  {
   "cell_type": "code",
   "execution_count": 424,
   "metadata": {},
   "outputs": [],
   "source": [
    "dataset = pd.read_csv('untitled text 4.csv')"
   ]
  },
  {
   "cell_type": "code",
   "execution_count": 425,
   "metadata": {},
   "outputs": [],
   "source": [
    "dataset.columns=['age','sex','chestPain','trestbps','chol','fbs','restecg','thalach','exang','oldpeak','slope','ca','thal','num']"
   ]
  },
  {
   "cell_type": "code",
   "execution_count": 426,
   "metadata": {},
   "outputs": [
    {
     "name": "stdout",
     "output_type": "stream",
     "text": [
      "<class 'pandas.core.frame.DataFrame'>\n",
      "RangeIndex: 302 entries, 0 to 301\n",
      "Data columns (total 14 columns):\n",
      "age          302 non-null float64\n",
      "sex          302 non-null float64\n",
      "chestPain    302 non-null float64\n",
      "trestbps     302 non-null float64\n",
      "chol         302 non-null float64\n",
      "fbs          302 non-null float64\n",
      "restecg      302 non-null float64\n",
      "thalach      302 non-null float64\n",
      "exang        302 non-null float64\n",
      "oldpeak      302 non-null float64\n",
      "slope        302 non-null float64\n",
      "ca           302 non-null object\n",
      "thal         302 non-null object\n",
      "num          302 non-null int64\n",
      "dtypes: float64(11), int64(1), object(2)\n",
      "memory usage: 33.1+ KB\n"
     ]
    }
   ],
   "source": [
    "dataset.info()"
   ]
  },
  {
   "cell_type": "code",
   "execution_count": 427,
   "metadata": {},
   "outputs": [
    {
     "data": {
      "text/html": [
       "<div>\n",
       "<style scoped>\n",
       "    .dataframe tbody tr th:only-of-type {\n",
       "        vertical-align: middle;\n",
       "    }\n",
       "\n",
       "    .dataframe tbody tr th {\n",
       "        vertical-align: top;\n",
       "    }\n",
       "\n",
       "    .dataframe thead th {\n",
       "        text-align: right;\n",
       "    }\n",
       "</style>\n",
       "<table border=\"1\" class=\"dataframe\">\n",
       "  <thead>\n",
       "    <tr style=\"text-align: right;\">\n",
       "      <th></th>\n",
       "      <th>age</th>\n",
       "      <th>sex</th>\n",
       "      <th>chestPain</th>\n",
       "      <th>trestbps</th>\n",
       "      <th>chol</th>\n",
       "      <th>fbs</th>\n",
       "      <th>restecg</th>\n",
       "      <th>thalach</th>\n",
       "      <th>exang</th>\n",
       "      <th>oldpeak</th>\n",
       "      <th>slope</th>\n",
       "      <th>ca</th>\n",
       "      <th>thal</th>\n",
       "      <th>num</th>\n",
       "    </tr>\n",
       "  </thead>\n",
       "  <tbody>\n",
       "    <tr>\n",
       "      <th>0</th>\n",
       "      <td>67.0</td>\n",
       "      <td>1.0</td>\n",
       "      <td>4.0</td>\n",
       "      <td>160.0</td>\n",
       "      <td>286.0</td>\n",
       "      <td>0.0</td>\n",
       "      <td>2.0</td>\n",
       "      <td>108.0</td>\n",
       "      <td>1.0</td>\n",
       "      <td>1.5</td>\n",
       "      <td>2.0</td>\n",
       "      <td>3.0</td>\n",
       "      <td>3.0</td>\n",
       "      <td>2</td>\n",
       "    </tr>\n",
       "    <tr>\n",
       "      <th>1</th>\n",
       "      <td>67.0</td>\n",
       "      <td>1.0</td>\n",
       "      <td>4.0</td>\n",
       "      <td>120.0</td>\n",
       "      <td>229.0</td>\n",
       "      <td>0.0</td>\n",
       "      <td>2.0</td>\n",
       "      <td>129.0</td>\n",
       "      <td>1.0</td>\n",
       "      <td>2.6</td>\n",
       "      <td>2.0</td>\n",
       "      <td>2.0</td>\n",
       "      <td>7.0</td>\n",
       "      <td>1</td>\n",
       "    </tr>\n",
       "    <tr>\n",
       "      <th>2</th>\n",
       "      <td>37.0</td>\n",
       "      <td>1.0</td>\n",
       "      <td>3.0</td>\n",
       "      <td>130.0</td>\n",
       "      <td>250.0</td>\n",
       "      <td>0.0</td>\n",
       "      <td>0.0</td>\n",
       "      <td>187.0</td>\n",
       "      <td>0.0</td>\n",
       "      <td>3.5</td>\n",
       "      <td>3.0</td>\n",
       "      <td>0.0</td>\n",
       "      <td>3.0</td>\n",
       "      <td>0</td>\n",
       "    </tr>\n",
       "    <tr>\n",
       "      <th>3</th>\n",
       "      <td>41.0</td>\n",
       "      <td>0.0</td>\n",
       "      <td>2.0</td>\n",
       "      <td>130.0</td>\n",
       "      <td>204.0</td>\n",
       "      <td>0.0</td>\n",
       "      <td>2.0</td>\n",
       "      <td>172.0</td>\n",
       "      <td>0.0</td>\n",
       "      <td>1.4</td>\n",
       "      <td>1.0</td>\n",
       "      <td>0.0</td>\n",
       "      <td>3.0</td>\n",
       "      <td>0</td>\n",
       "    </tr>\n",
       "    <tr>\n",
       "      <th>4</th>\n",
       "      <td>56.0</td>\n",
       "      <td>1.0</td>\n",
       "      <td>2.0</td>\n",
       "      <td>120.0</td>\n",
       "      <td>236.0</td>\n",
       "      <td>0.0</td>\n",
       "      <td>0.0</td>\n",
       "      <td>178.0</td>\n",
       "      <td>0.0</td>\n",
       "      <td>0.8</td>\n",
       "      <td>1.0</td>\n",
       "      <td>0.0</td>\n",
       "      <td>3.0</td>\n",
       "      <td>0</td>\n",
       "    </tr>\n",
       "  </tbody>\n",
       "</table>\n",
       "</div>"
      ],
      "text/plain": [
       "    age  sex  chestPain  trestbps   chol  fbs  restecg  thalach  exang  \\\n",
       "0  67.0  1.0        4.0     160.0  286.0  0.0      2.0    108.0    1.0   \n",
       "1  67.0  1.0        4.0     120.0  229.0  0.0      2.0    129.0    1.0   \n",
       "2  37.0  1.0        3.0     130.0  250.0  0.0      0.0    187.0    0.0   \n",
       "3  41.0  0.0        2.0     130.0  204.0  0.0      2.0    172.0    0.0   \n",
       "4  56.0  1.0        2.0     120.0  236.0  0.0      0.0    178.0    0.0   \n",
       "\n",
       "   oldpeak  slope   ca thal  num  \n",
       "0      1.5    2.0  3.0  3.0    2  \n",
       "1      2.6    2.0  2.0  7.0    1  \n",
       "2      3.5    3.0  0.0  3.0    0  \n",
       "3      1.4    1.0  0.0  3.0    0  \n",
       "4      0.8    1.0  0.0  3.0    0  "
      ]
     },
     "execution_count": 427,
     "metadata": {},
     "output_type": "execute_result"
    }
   ],
   "source": [
    "dataset.head()"
   ]
  },
  {
   "cell_type": "code",
   "execution_count": 428,
   "metadata": {},
   "outputs": [
    {
     "data": {
      "text/plain": [
       "age          0\n",
       "sex          0\n",
       "chestPain    0\n",
       "trestbps     0\n",
       "chol         0\n",
       "fbs          0\n",
       "restecg      0\n",
       "thalach      0\n",
       "exang        0\n",
       "oldpeak      0\n",
       "slope        0\n",
       "ca           0\n",
       "thal         0\n",
       "num          0\n",
       "dtype: int64"
      ]
     },
     "execution_count": 428,
     "metadata": {},
     "output_type": "execute_result"
    }
   ],
   "source": [
    "dataset.isnull().sum()"
   ]
  },
  {
   "cell_type": "code",
   "execution_count": 429,
   "metadata": {},
   "outputs": [
    {
     "data": {
      "text/html": [
       "<div>\n",
       "<style scoped>\n",
       "    .dataframe tbody tr th:only-of-type {\n",
       "        vertical-align: middle;\n",
       "    }\n",
       "\n",
       "    .dataframe tbody tr th {\n",
       "        vertical-align: top;\n",
       "    }\n",
       "\n",
       "    .dataframe thead th {\n",
       "        text-align: right;\n",
       "    }\n",
       "</style>\n",
       "<table border=\"1\" class=\"dataframe\">\n",
       "  <thead>\n",
       "    <tr style=\"text-align: right;\">\n",
       "      <th></th>\n",
       "      <th>age</th>\n",
       "      <th>sex</th>\n",
       "      <th>chestPain</th>\n",
       "      <th>trestbps</th>\n",
       "      <th>chol</th>\n",
       "      <th>fbs</th>\n",
       "      <th>restecg</th>\n",
       "      <th>thalach</th>\n",
       "      <th>exang</th>\n",
       "      <th>oldpeak</th>\n",
       "      <th>slope</th>\n",
       "      <th>num</th>\n",
       "    </tr>\n",
       "  </thead>\n",
       "  <tbody>\n",
       "    <tr>\n",
       "      <th>count</th>\n",
       "      <td>302.000000</td>\n",
       "      <td>302.000000</td>\n",
       "      <td>302.000000</td>\n",
       "      <td>302.000000</td>\n",
       "      <td>302.000000</td>\n",
       "      <td>302.000000</td>\n",
       "      <td>302.000000</td>\n",
       "      <td>302.000000</td>\n",
       "      <td>302.000000</td>\n",
       "      <td>302.000000</td>\n",
       "      <td>302.000000</td>\n",
       "      <td>302.000000</td>\n",
       "    </tr>\n",
       "    <tr>\n",
       "      <th>mean</th>\n",
       "      <td>54.410596</td>\n",
       "      <td>0.678808</td>\n",
       "      <td>3.165563</td>\n",
       "      <td>131.645695</td>\n",
       "      <td>246.738411</td>\n",
       "      <td>0.145695</td>\n",
       "      <td>0.986755</td>\n",
       "      <td>149.605960</td>\n",
       "      <td>0.327815</td>\n",
       "      <td>1.035430</td>\n",
       "      <td>1.596026</td>\n",
       "      <td>0.940397</td>\n",
       "    </tr>\n",
       "    <tr>\n",
       "      <th>std</th>\n",
       "      <td>9.040163</td>\n",
       "      <td>0.467709</td>\n",
       "      <td>0.953612</td>\n",
       "      <td>17.612202</td>\n",
       "      <td>51.856829</td>\n",
       "      <td>0.353386</td>\n",
       "      <td>0.994916</td>\n",
       "      <td>22.912959</td>\n",
       "      <td>0.470196</td>\n",
       "      <td>1.160723</td>\n",
       "      <td>0.611939</td>\n",
       "      <td>1.229384</td>\n",
       "    </tr>\n",
       "    <tr>\n",
       "      <th>min</th>\n",
       "      <td>29.000000</td>\n",
       "      <td>0.000000</td>\n",
       "      <td>1.000000</td>\n",
       "      <td>94.000000</td>\n",
       "      <td>126.000000</td>\n",
       "      <td>0.000000</td>\n",
       "      <td>0.000000</td>\n",
       "      <td>71.000000</td>\n",
       "      <td>0.000000</td>\n",
       "      <td>0.000000</td>\n",
       "      <td>1.000000</td>\n",
       "      <td>0.000000</td>\n",
       "    </tr>\n",
       "    <tr>\n",
       "      <th>25%</th>\n",
       "      <td>48.000000</td>\n",
       "      <td>0.000000</td>\n",
       "      <td>3.000000</td>\n",
       "      <td>120.000000</td>\n",
       "      <td>211.000000</td>\n",
       "      <td>0.000000</td>\n",
       "      <td>0.000000</td>\n",
       "      <td>133.250000</td>\n",
       "      <td>0.000000</td>\n",
       "      <td>0.000000</td>\n",
       "      <td>1.000000</td>\n",
       "      <td>0.000000</td>\n",
       "    </tr>\n",
       "    <tr>\n",
       "      <th>50%</th>\n",
       "      <td>55.500000</td>\n",
       "      <td>1.000000</td>\n",
       "      <td>3.000000</td>\n",
       "      <td>130.000000</td>\n",
       "      <td>241.500000</td>\n",
       "      <td>0.000000</td>\n",
       "      <td>0.500000</td>\n",
       "      <td>153.000000</td>\n",
       "      <td>0.000000</td>\n",
       "      <td>0.800000</td>\n",
       "      <td>2.000000</td>\n",
       "      <td>0.000000</td>\n",
       "    </tr>\n",
       "    <tr>\n",
       "      <th>75%</th>\n",
       "      <td>61.000000</td>\n",
       "      <td>1.000000</td>\n",
       "      <td>4.000000</td>\n",
       "      <td>140.000000</td>\n",
       "      <td>275.000000</td>\n",
       "      <td>0.000000</td>\n",
       "      <td>2.000000</td>\n",
       "      <td>166.000000</td>\n",
       "      <td>1.000000</td>\n",
       "      <td>1.600000</td>\n",
       "      <td>2.000000</td>\n",
       "      <td>2.000000</td>\n",
       "    </tr>\n",
       "    <tr>\n",
       "      <th>max</th>\n",
       "      <td>77.000000</td>\n",
       "      <td>1.000000</td>\n",
       "      <td>4.000000</td>\n",
       "      <td>200.000000</td>\n",
       "      <td>564.000000</td>\n",
       "      <td>1.000000</td>\n",
       "      <td>2.000000</td>\n",
       "      <td>202.000000</td>\n",
       "      <td>1.000000</td>\n",
       "      <td>6.200000</td>\n",
       "      <td>3.000000</td>\n",
       "      <td>4.000000</td>\n",
       "    </tr>\n",
       "  </tbody>\n",
       "</table>\n",
       "</div>"
      ],
      "text/plain": [
       "              age         sex   chestPain    trestbps        chol         fbs  \\\n",
       "count  302.000000  302.000000  302.000000  302.000000  302.000000  302.000000   \n",
       "mean    54.410596    0.678808    3.165563  131.645695  246.738411    0.145695   \n",
       "std      9.040163    0.467709    0.953612   17.612202   51.856829    0.353386   \n",
       "min     29.000000    0.000000    1.000000   94.000000  126.000000    0.000000   \n",
       "25%     48.000000    0.000000    3.000000  120.000000  211.000000    0.000000   \n",
       "50%     55.500000    1.000000    3.000000  130.000000  241.500000    0.000000   \n",
       "75%     61.000000    1.000000    4.000000  140.000000  275.000000    0.000000   \n",
       "max     77.000000    1.000000    4.000000  200.000000  564.000000    1.000000   \n",
       "\n",
       "          restecg     thalach       exang     oldpeak       slope         num  \n",
       "count  302.000000  302.000000  302.000000  302.000000  302.000000  302.000000  \n",
       "mean     0.986755  149.605960    0.327815    1.035430    1.596026    0.940397  \n",
       "std      0.994916   22.912959    0.470196    1.160723    0.611939    1.229384  \n",
       "min      0.000000   71.000000    0.000000    0.000000    1.000000    0.000000  \n",
       "25%      0.000000  133.250000    0.000000    0.000000    1.000000    0.000000  \n",
       "50%      0.500000  153.000000    0.000000    0.800000    2.000000    0.000000  \n",
       "75%      2.000000  166.000000    1.000000    1.600000    2.000000    2.000000  \n",
       "max      2.000000  202.000000    1.000000    6.200000    3.000000    4.000000  "
      ]
     },
     "execution_count": 429,
     "metadata": {},
     "output_type": "execute_result"
    }
   ],
   "source": [
    "dataset.describe()"
   ]
  },
  {
   "cell_type": "markdown",
   "metadata": {},
   "source": [
    "###### distributing age into categories.."
   ]
  },
  {
   "cell_type": "code",
   "execution_count": 430,
   "metadata": {},
   "outputs": [],
   "source": [
    "age_m=[]\n",
    "for age in dataset.age:\n",
    "    if age<30:\n",
    "         age_m.append('<30')\n",
    "    else:\n",
    "        if age<40:\n",
    "            age_m.append('30-40')\n",
    "        else:\n",
    "            if age<50:\n",
    "                age_m.append('40-50')\n",
    "            else:\n",
    "                if age<60:\n",
    "                    age_m.append('50-60')\n",
    "                else:\n",
    "                    if age<70:\n",
    "                        age_m.append('60-70')\n",
    "                    else:\n",
    "                         if age<80:\n",
    "                            age_m.append('70-80')"
   ]
  },
  {
   "cell_type": "code",
   "execution_count": 431,
   "metadata": {},
   "outputs": [],
   "source": [
    "dataset.insert(1,'age_m',age_m)"
   ]
  },
  {
   "cell_type": "code",
   "execution_count": 432,
   "metadata": {},
   "outputs": [],
   "source": [
    "dataset.drop(labels='age',axis=1,inplace=True)"
   ]
  },
  {
   "cell_type": "code",
   "execution_count": 433,
   "metadata": {},
   "outputs": [
    {
     "data": {
      "text/plain": [
       "array(['60-70', '30-40', '40-50', '50-60', '70-80', '<30'], dtype=object)"
      ]
     },
     "execution_count": 433,
     "metadata": {},
     "output_type": "execute_result"
    }
   ],
   "source": [
    "dataset['age_m'].unique()"
   ]
  },
  {
   "cell_type": "code",
   "execution_count": 434,
   "metadata": {},
   "outputs": [
    {
     "data": {
      "text/plain": [
       "<matplotlib.axes._subplots.AxesSubplot at 0x1a24417eb8>"
      ]
     },
     "execution_count": 434,
     "metadata": {},
     "output_type": "execute_result"
    },
    {
     "data": {
      "image/png": "[encoded data removed]",
      "text/plain": [
       "<matplotlib.figure.Figure at 0x1a242fd4e0>"
      ]
     },
     "metadata": {},
     "output_type": "display_data"
    }
   ],
   "source": [
    "sns.countplot(dataset['age_m'])"
   ]
  },
  {
   "cell_type": "code",
   "execution_count": 435,
   "metadata": {},
   "outputs": [
    {
     "data": {
      "text/plain": [
       "<matplotlib.axes._subplots.AxesSubplot at 0x1a244257b8>"
      ]
     },
     "execution_count": 435,
     "metadata": {},
     "output_type": "execute_result"
    },
    {
     "data": {
      "image/png": "[encoded data removed]",
      "text/plain": [
       "<matplotlib.figure.Figure at 0x1a242f2160>"
      ]
     },
     "metadata": {},
     "output_type": "display_data"
    }
   ],
   "source": [
    "sns.countplot(dataset.sex)"
   ]
  },
  {
   "cell_type": "code",
   "execution_count": 436,
   "metadata": {},
   "outputs": [
    {
     "data": {
      "text/plain": [
       "array([4., 3., 2., 1.])"
      ]
     },
     "execution_count": 436,
     "metadata": {},
     "output_type": "execute_result"
    }
   ],
   "source": [
    "dataset.chestPain.unique()"
   ]
  },
  {
   "cell_type": "code",
   "execution_count": 437,
   "metadata": {},
   "outputs": [
    {
     "data": {
      "text/plain": [
       "<matplotlib.axes._subplots.AxesSubplot at 0x1a24489940>"
      ]
     },
     "execution_count": 437,
     "metadata": {},
     "output_type": "execute_result"
    },
    {
     "data": {
      "image/png": "[encoded data removed]",
      "text/plain": [
       "<matplotlib.figure.Figure at 0x1a23d6f780>"
      ]
     },
     "metadata": {},
     "output_type": "display_data"
    }
   ],
   "source": [
    "sns.countplot(dataset.chestPain)"
   ]
  },
  {
   "cell_type": "code",
   "execution_count": 438,
   "metadata": {},
   "outputs": [
    {
     "data": {
      "text/plain": [
       "array([160., 120., 130., 140., 172., 150., 110., 132., 117., 135., 112.,\n",
       "       105., 124., 125., 142., 128., 145., 170., 155., 104., 180., 138.,\n",
       "       108., 134., 122., 115., 118., 100., 200.,  94., 165., 102., 152.,\n",
       "       101., 126., 174., 148., 178., 158., 192., 129., 144., 123., 136.,\n",
       "       146., 106., 156., 154., 114., 164.])"
      ]
     },
     "execution_count": 438,
     "metadata": {},
     "output_type": "execute_result"
    }
   ],
   "source": [
    "dataset.trestbps.unique()"
   ]
  },
  {
   "cell_type": "code",
   "execution_count": 439,
   "metadata": {},
   "outputs": [
    {
     "data": {
      "text/plain": [
       "94.0"
      ]
     },
     "execution_count": 439,
     "metadata": {},
     "output_type": "execute_result"
    }
   ],
   "source": [
    "dataset.trestbps.min()"
   ]
  },
  {
   "cell_type": "code",
   "execution_count": 440,
   "metadata": {},
   "outputs": [],
   "source": [
    "#dividing resting bp into categories\n",
    "bp_m = []\n",
    "for bp in dataset.trestbps:\n",
    "    if bp<125:\n",
    "        bp_m.append('ideal bp')\n",
    "    else:\n",
    "        if bp<142:\n",
    "            bp_m.append('pre_high bp')\n",
    "        else:\n",
    "            if bp<300:\n",
    "                bp_m.append('high bp')"
   ]
  },
  {
   "cell_type": "code",
   "execution_count": 441,
   "metadata": {},
   "outputs": [],
   "source": [
    "dataset.insert(4,'tresbps_m',bp_m)"
   ]
  },
  {
   "cell_type": "code",
   "execution_count": 442,
   "metadata": {},
   "outputs": [],
   "source": [
    "dataset.drop(labels='trestbps',axis=1,inplace=True)"
   ]
  },
  {
   "cell_type": "code",
   "execution_count": 443,
   "metadata": {},
   "outputs": [
    {
     "data": {
      "text/plain": [
       "<matplotlib.axes._subplots.AxesSubplot at 0x1a245ea4a8>"
      ]
     },
     "execution_count": 443,
     "metadata": {},
     "output_type": "execute_result"
    },
    {
     "data": {
      "image/png": "[encoded data removed]",
      "text/plain": [
       "<matplotlib.figure.Figure at 0x1a24540e10>"
      ]
     },
     "metadata": {},
     "output_type": "display_data"
    }
   ],
   "source": [
    "sns.countplot(dataset.tresbps_m)"
   ]
  },
  {
   "cell_type": "code",
   "execution_count": 444,
   "metadata": {},
   "outputs": [
    {
     "data": {
      "text/plain": [
       "array([286., 229., 250., 204., 236., 268., 354., 254., 203., 192., 294.,\n",
       "       256., 263., 199., 168., 239., 275., 266., 211., 283., 284., 224.,\n",
       "       206., 219., 340., 226., 247., 167., 230., 335., 234., 233., 177.,\n",
       "       276., 353., 243., 225., 302., 212., 330., 175., 417., 197., 198.,\n",
       "       290., 253., 172., 273., 213., 305., 216., 304., 188., 282., 185.,\n",
       "       232., 326., 231., 269., 267., 248., 360., 258., 308., 245., 270.,\n",
       "       208., 264., 321., 274., 325., 235., 257., 164., 141., 252., 255.,\n",
       "       201., 222., 260., 182., 303., 265., 309., 307., 249., 186., 341.,\n",
       "       183., 407., 217., 288., 220., 209., 227., 261., 174., 281., 221.,\n",
       "       205., 240., 289., 318., 298., 564., 246., 322., 299., 300., 293.,\n",
       "       277., 214., 207., 223., 160., 394., 184., 315., 409., 244., 195.,\n",
       "       196., 126., 313., 259., 200., 262., 215., 228., 193., 271., 210.,\n",
       "       327., 149., 295., 306., 178., 237., 218., 242., 319., 166., 180.,\n",
       "       311., 278., 342., 169., 187., 157., 176., 241., 131.])"
      ]
     },
     "execution_count": 444,
     "metadata": {},
     "output_type": "execute_result"
    }
   ],
   "source": [
    "dataset.chol.unique()"
   ]
  },
  {
   "cell_type": "code",
   "execution_count": 445,
   "metadata": {},
   "outputs": [],
   "source": [
    "#dividing cholestrol into 3 categories.\n",
    "chol_m = []\n",
    "for bp in dataset.chol:\n",
    "    if bp<205:\n",
    "        chol_m.append('desirable')\n",
    "    else:\n",
    "        if bp<243:\n",
    "            chol_m.append('border high')\n",
    "        else:\n",
    "            if bp<600:\n",
    "                chol_m.append('high')"
   ]
  },
  {
   "cell_type": "code",
   "execution_count": 446,
   "metadata": {},
   "outputs": [],
   "source": [
    "dataset.insert(4,'chol_m',chol_m)"
   ]
  },
  {
   "cell_type": "code",
   "execution_count": 447,
   "metadata": {},
   "outputs": [],
   "source": [
    "dataset.drop(labels='chol',axis=1,inplace=True)"
   ]
  },
  {
   "cell_type": "code",
   "execution_count": 448,
   "metadata": {},
   "outputs": [
    {
     "data": {
      "text/plain": [
       "<matplotlib.axes._subplots.AxesSubplot at 0x1a246acf98>"
      ]
     },
     "execution_count": 448,
     "metadata": {},
     "output_type": "execute_result"
    },
    {
     "data": {
      "image/png": "[encoded data removed]",
      "text/plain": [
       "<matplotlib.figure.Figure at 0x1a24607518>"
      ]
     },
     "metadata": {},
     "output_type": "display_data"
    }
   ],
   "source": [
    "plt.xticks(rotation=90)\n",
    "sns.countplot(dataset.chol_m)"
   ]
  },
  {
   "cell_type": "code",
   "execution_count": 449,
   "metadata": {},
   "outputs": [
    {
     "data": {
      "text/plain": [
       "array([0., 1.])"
      ]
     },
     "execution_count": 449,
     "metadata": {},
     "output_type": "execute_result"
    }
   ],
   "source": [
    "dataset.fbs.unique()"
   ]
  },
  {
   "cell_type": "code",
   "execution_count": 450,
   "metadata": {},
   "outputs": [
    {
     "data": {
      "text/plain": [
       "<matplotlib.axes._subplots.AxesSubplot at 0x1a246bc160>"
      ]
     },
     "execution_count": 450,
     "metadata": {},
     "output_type": "execute_result"
    },
    {
     "data": {
      "image/png": "[encoded data removed]",
      "text/plain": [
       "<matplotlib.figure.Figure at 0x1a24540be0>"
      ]
     },
     "metadata": {},
     "output_type": "display_data"
    }
   ],
   "source": [
    "sns.countplot(dataset.fbs)\n",
    "#fbs: (fasting blood sugar > 120 mg/dl) (1 = true; 0 = false) "
   ]
  },
  {
   "cell_type": "code",
   "execution_count": 451,
   "metadata": {},
   "outputs": [
    {
     "data": {
      "text/plain": [
       "array([2., 0., 1.])"
      ]
     },
     "execution_count": 451,
     "metadata": {},
     "output_type": "execute_result"
    }
   ],
   "source": [
    "dataset.restecg.unique()"
   ]
  },
  {
   "cell_type": "code",
   "execution_count": 452,
   "metadata": {},
   "outputs": [
    {
     "data": {
      "text/plain": [
       "<matplotlib.axes._subplots.AxesSubplot at 0x1a247fc7f0>"
      ]
     },
     "execution_count": 452,
     "metadata": {},
     "output_type": "execute_result"
    },
    {
     "data": {
      "image/png": "[encoded data removed]",
      "text/plain": [
       "<matplotlib.figure.Figure at 0x1a2474acc0>"
      ]
     },
     "metadata": {},
     "output_type": "display_data"
    }
   ],
   "source": [
    "#restecg: resting electrocardiographic results \n",
    "# Value 0: normal \n",
    "# Value 1: having ST-T wave abnormality (T wave inversions and/or ST elevation or depression of > 0.05 mV) \n",
    "# Value 2: showing probable or definite left ventricular hypertrophy by Estes' criteria \n",
    "sns.countplot(dataset.restecg)"
   ]
  },
  {
   "cell_type": "code",
   "execution_count": 453,
   "metadata": {},
   "outputs": [
    {
     "data": {
      "text/plain": [
       "array([108., 129., 187., 172., 178., 160., 163., 147., 155., 148., 153.,\n",
       "       142., 173., 162., 174., 168., 139., 171., 144., 132., 158., 114.,\n",
       "       151., 161., 179., 120., 112., 137., 157., 169., 165., 123., 128.,\n",
       "       152., 140., 188., 109., 125., 131., 170., 113.,  99., 177., 141.,\n",
       "       180., 111., 143., 182., 150., 156., 115., 149., 145., 146., 175.,\n",
       "       186., 185., 159., 130., 190., 136.,  97., 127., 154., 133., 126.,\n",
       "       202., 103., 166., 164., 184., 124., 122.,  96., 138.,  88., 105.,\n",
       "       194., 195., 106., 167.,  95., 192., 117., 121., 116.,  71., 118.,\n",
       "       181., 134.,  90.])"
      ]
     },
     "execution_count": 453,
     "metadata": {},
     "output_type": "execute_result"
    }
   ],
   "source": [
    "dataset.thalach.unique()\n",
    "#thalach: maximum heart rate achieved"
   ]
  },
  {
   "cell_type": "code",
   "execution_count": 454,
   "metadata": {},
   "outputs": [],
   "source": [
    "#dividing maximum heart rate into categories\n",
    "thalach_m = []\n",
    "for bp in dataset.thalach:\n",
    "    if bp<102:\n",
    "        thalach_m.append('normal')\n",
    "    else:\n",
    "        if bp<140:\n",
    "            thalach_m.append('pre high')\n",
    "        else:\n",
    "            if bp<250:\n",
    "                thalach_m.append('high')"
   ]
  },
  {
   "cell_type": "code",
   "execution_count": 455,
   "metadata": {},
   "outputs": [],
   "source": [
    "dataset.insert(7,'thalach_m',thalach_m)"
   ]
  },
  {
   "cell_type": "code",
   "execution_count": 456,
   "metadata": {},
   "outputs": [
    {
     "data": {
      "text/plain": [
       "<matplotlib.axes._subplots.AxesSubplot at 0x1a248f3438>"
      ]
     },
     "execution_count": 456,
     "metadata": {},
     "output_type": "execute_result"
    },
    {
     "data": {
      "image/png": "[encoded data removed]",
      "text/plain": [
       "<matplotlib.figure.Figure at 0x1a2484dc18>"
      ]
     },
     "metadata": {},
     "output_type": "display_data"
    }
   ],
   "source": [
    "sns.countplot(thalach_m)"
   ]
  },
  {
   "cell_type": "code",
   "execution_count": 457,
   "metadata": {},
   "outputs": [
    {
     "data": {
      "text/plain": [
       "array([1., 0.])"
      ]
     },
     "execution_count": 457,
     "metadata": {},
     "output_type": "execute_result"
    }
   ],
   "source": [
    "dataset.exang.unique()\n",
    "#38 exang: exercise induced angina (1 = yes; 0 = no) "
   ]
  },
  {
   "cell_type": "code",
   "execution_count": 458,
   "metadata": {},
   "outputs": [
    {
     "data": {
      "text/plain": [
       "<matplotlib.axes._subplots.AxesSubplot at 0x1a2490e860>"
      ]
     },
     "execution_count": 458,
     "metadata": {},
     "output_type": "execute_result"
    },
    {
     "data": {
      "image/png": "[encoded data removed]",
      "text/plain": [
       "<matplotlib.figure.Figure at 0x1a244891d0>"
      ]
     },
     "metadata": {},
     "output_type": "display_data"
    }
   ],
   "source": [
    "sns.countplot(dataset.exang)"
   ]
  },
  {
   "cell_type": "code",
   "execution_count": 459,
   "metadata": {},
   "outputs": [
    {
     "data": {
      "text/plain": [
       "array([1.5, 2.6, 3.5, 1.4, 0.8, 3.6, 0.6, 3.1, 0.4, 1.3, 0. , 0.5, 1.6,\n",
       "       1. , 1.2, 0.2, 1.8, 3.2, 2.4, 2. , 2.5, 2.2, 2.8, 3. , 3.4, 6.2,\n",
       "       4. , 5.6, 2.9, 0.1, 2.1, 1.9, 4.2, 0.9, 1.1, 3.8, 0.7, 0.3, 2.3,\n",
       "       4.4])"
      ]
     },
     "execution_count": 459,
     "metadata": {},
     "output_type": "execute_result"
    }
   ],
   "source": [
    "dataset.oldpeak.unique()\n",
    "#oldpeak = ST depression induced by exercise relative to rest "
   ]
  },
  {
   "cell_type": "code",
   "execution_count": 460,
   "metadata": {},
   "outputs": [],
   "source": [
    "oldpk = []\n",
    "for i in dataset.oldpeak:\n",
    "    if i<1.9:\n",
    "        oldpk.append('non-sig')\n",
    "    else:\n",
    "        if i>=1.9:\n",
    "            oldpk.append('significant')"
   ]
  },
  {
   "cell_type": "code",
   "execution_count": 461,
   "metadata": {},
   "outputs": [],
   "source": [
    "dataset.insert(10,'oldpk',oldpk)"
   ]
  },
  {
   "cell_type": "code",
   "execution_count": 462,
   "metadata": {},
   "outputs": [],
   "source": [
    "dataset.drop(labels='thalach',axis=1,inplace=True)"
   ]
  },
  {
   "cell_type": "code",
   "execution_count": 463,
   "metadata": {},
   "outputs": [],
   "source": [
    "dataset.drop(labels='oldpeak',axis=1,inplace=True)"
   ]
  },
  {
   "cell_type": "code",
   "execution_count": 464,
   "metadata": {},
   "outputs": [
    {
     "data": {
      "text/plain": [
       "array([2., 3., 1.])"
      ]
     },
     "execution_count": 464,
     "metadata": {},
     "output_type": "execute_result"
    }
   ],
   "source": [
    "dataset.slope.unique()\n",
    "# slope: the slope of the peak exercise ST segment \n",
    "#Value 1: upsloping \n",
    "# Value 2: flat \n",
    "# Value 3: downsloping "
   ]
  },
  {
   "cell_type": "code",
   "execution_count": 465,
   "metadata": {},
   "outputs": [
    {
     "data": {
      "text/plain": [
       "<matplotlib.axes._subplots.AxesSubplot at 0x1a24a65b00>"
      ]
     },
     "execution_count": 465,
     "metadata": {},
     "output_type": "execute_result"
    },
    {
     "data": {
      "image/png": "[encoded data removed]",
      "text/plain": [
       "<matplotlib.figure.Figure at 0x1a249b24e0>"
      ]
     },
     "metadata": {},
     "output_type": "display_data"
    }
   ],
   "source": [
    "sns.countplot(dataset.slope)"
   ]
  },
  {
   "cell_type": "code",
   "execution_count": 466,
   "metadata": {},
   "outputs": [
    {
     "data": {
      "text/plain": [
       "array(['3.0', '2.0', '0.0', '1.0', '?'], dtype=object)"
      ]
     },
     "execution_count": 466,
     "metadata": {},
     "output_type": "execute_result"
    }
   ],
   "source": [
    "dataset.ca.unique()"
   ]
  },
  {
   "cell_type": "code",
   "execution_count": 467,
   "metadata": {},
   "outputs": [],
   "source": [
    "dataset.ca.replace('?',dataset.ca.mode()[0],inplace=True)"
   ]
  },
  {
   "cell_type": "code",
   "execution_count": 468,
   "metadata": {},
   "outputs": [
    {
     "data": {
      "text/plain": [
       "array(['3.0', '2.0', '0.0', '1.0'], dtype=object)"
      ]
     },
     "execution_count": 468,
     "metadata": {},
     "output_type": "execute_result"
    }
   ],
   "source": [
    "dataset.ca.unique()"
   ]
  },
  {
   "cell_type": "code",
   "execution_count": 469,
   "metadata": {},
   "outputs": [
    {
     "data": {
      "text/plain": [
       "<matplotlib.axes._subplots.AxesSubplot at 0x1a24a8bb70>"
      ]
     },
     "execution_count": 469,
     "metadata": {},
     "output_type": "execute_result"
    },
    {
     "data": {
      "image/png": "[encoded data removed]",
      "text/plain": [
       "<matplotlib.figure.Figure at 0x1a24a900b8>"
      ]
     },
     "metadata": {},
     "output_type": "display_data"
    }
   ],
   "source": [
    "sns.countplot(dataset.ca)"
   ]
  },
  {
   "cell_type": "code",
   "execution_count": 470,
   "metadata": {},
   "outputs": [
    {
     "data": {
      "text/plain": [
       "array(['3.0', '7.0', '6.0', '?'], dtype=object)"
      ]
     },
     "execution_count": 470,
     "metadata": {},
     "output_type": "execute_result"
    }
   ],
   "source": [
    "dataset.thal.unique()"
   ]
  },
  {
   "cell_type": "code",
   "execution_count": 471,
   "metadata": {},
   "outputs": [],
   "source": [
    "dataset.thal.replace('?',dataset.thal.mode()[0],inplace=True)"
   ]
  },
  {
   "cell_type": "code",
   "execution_count": 472,
   "metadata": {},
   "outputs": [
    {
     "data": {
      "text/plain": [
       "array(['3.0', '7.0', '6.0'], dtype=object)"
      ]
     },
     "execution_count": 472,
     "metadata": {},
     "output_type": "execute_result"
    }
   ],
   "source": [
    "dataset.thal.unique()"
   ]
  },
  {
   "cell_type": "code",
   "execution_count": 473,
   "metadata": {},
   "outputs": [
    {
     "data": {
      "text/plain": [
       "<matplotlib.axes._subplots.AxesSubplot at 0x1a24b31780>"
      ]
     },
     "execution_count": 473,
     "metadata": {},
     "output_type": "execute_result"
    },
    {
     "data": {
      "image/png": "[encoded data removed]",
      "text/plain": [
       "<matplotlib.figure.Figure at 0x1a24b3b940>"
      ]
     },
     "metadata": {},
     "output_type": "display_data"
    }
   ],
   "source": [
    "sns.countplot(dataset.thal)"
   ]
  },
  {
   "cell_type": "code",
   "execution_count": 474,
   "metadata": {},
   "outputs": [
    {
     "data": {
      "text/plain": [
       "array([2, 1, 0, 3, 4])"
      ]
     },
     "execution_count": 474,
     "metadata": {},
     "output_type": "execute_result"
    }
   ],
   "source": [
    "dataset.num.unique()"
   ]
  },
  {
   "cell_type": "code",
   "execution_count": 475,
   "metadata": {},
   "outputs": [],
   "source": [
    "#as described in description of the dataset,categorising label in 0 and 1.\n",
    "num_m=[]\n",
    "for i in dataset.num:\n",
    "    if i==0:\n",
    "        num_m.append('0')\n",
    "    else:\n",
    "        if i>0:\n",
    "            num_m.append('1')"
   ]
  },
  {
   "cell_type": "code",
   "execution_count": 476,
   "metadata": {},
   "outputs": [],
   "source": [
    "dataset.insert(13,'num_m',num_m)"
   ]
  },
  {
   "cell_type": "code",
   "execution_count": 477,
   "metadata": {},
   "outputs": [],
   "source": [
    "dataset.drop('num',inplace=True,axis=1)"
   ]
  },
  {
   "cell_type": "code",
   "execution_count": 478,
   "metadata": {},
   "outputs": [
    {
     "data": {
      "text/html": [
       "<div>\n",
       "<style scoped>\n",
       "    .dataframe tbody tr th:only-of-type {\n",
       "        vertical-align: middle;\n",
       "    }\n",
       "\n",
       "    .dataframe tbody tr th {\n",
       "        vertical-align: top;\n",
       "    }\n",
       "\n",
       "    .dataframe thead th {\n",
       "        text-align: right;\n",
       "    }\n",
       "</style>\n",
       "<table border=\"1\" class=\"dataframe\">\n",
       "  <thead>\n",
       "    <tr style=\"text-align: right;\">\n",
       "      <th></th>\n",
       "      <th>age_m</th>\n",
       "      <th>sex</th>\n",
       "      <th>chestPain</th>\n",
       "      <th>tresbps_m</th>\n",
       "      <th>chol_m</th>\n",
       "      <th>fbs</th>\n",
       "      <th>restecg</th>\n",
       "      <th>thalach_m</th>\n",
       "      <th>exang</th>\n",
       "      <th>oldpk</th>\n",
       "      <th>slope</th>\n",
       "      <th>ca</th>\n",
       "      <th>thal</th>\n",
       "      <th>num_m</th>\n",
       "    </tr>\n",
       "  </thead>\n",
       "  <tbody>\n",
       "    <tr>\n",
       "      <th>0</th>\n",
       "      <td>60-70</td>\n",
       "      <td>1.0</td>\n",
       "      <td>4.0</td>\n",
       "      <td>high bp</td>\n",
       "      <td>high</td>\n",
       "      <td>0.0</td>\n",
       "      <td>2.0</td>\n",
       "      <td>pre high</td>\n",
       "      <td>1.0</td>\n",
       "      <td>non-sig</td>\n",
       "      <td>2.0</td>\n",
       "      <td>3.0</td>\n",
       "      <td>3.0</td>\n",
       "      <td>1</td>\n",
       "    </tr>\n",
       "    <tr>\n",
       "      <th>1</th>\n",
       "      <td>60-70</td>\n",
       "      <td>1.0</td>\n",
       "      <td>4.0</td>\n",
       "      <td>ideal bp</td>\n",
       "      <td>border high</td>\n",
       "      <td>0.0</td>\n",
       "      <td>2.0</td>\n",
       "      <td>pre high</td>\n",
       "      <td>1.0</td>\n",
       "      <td>significant</td>\n",
       "      <td>2.0</td>\n",
       "      <td>2.0</td>\n",
       "      <td>7.0</td>\n",
       "      <td>1</td>\n",
       "    </tr>\n",
       "    <tr>\n",
       "      <th>2</th>\n",
       "      <td>30-40</td>\n",
       "      <td>1.0</td>\n",
       "      <td>3.0</td>\n",
       "      <td>pre_high bp</td>\n",
       "      <td>high</td>\n",
       "      <td>0.0</td>\n",
       "      <td>0.0</td>\n",
       "      <td>high</td>\n",
       "      <td>0.0</td>\n",
       "      <td>significant</td>\n",
       "      <td>3.0</td>\n",
       "      <td>0.0</td>\n",
       "      <td>3.0</td>\n",
       "      <td>0</td>\n",
       "    </tr>\n",
       "    <tr>\n",
       "      <th>3</th>\n",
       "      <td>40-50</td>\n",
       "      <td>0.0</td>\n",
       "      <td>2.0</td>\n",
       "      <td>pre_high bp</td>\n",
       "      <td>desirable</td>\n",
       "      <td>0.0</td>\n",
       "      <td>2.0</td>\n",
       "      <td>high</td>\n",
       "      <td>0.0</td>\n",
       "      <td>non-sig</td>\n",
       "      <td>1.0</td>\n",
       "      <td>0.0</td>\n",
       "      <td>3.0</td>\n",
       "      <td>0</td>\n",
       "    </tr>\n",
       "    <tr>\n",
       "      <th>4</th>\n",
       "      <td>50-60</td>\n",
       "      <td>1.0</td>\n",
       "      <td>2.0</td>\n",
       "      <td>ideal bp</td>\n",
       "      <td>border high</td>\n",
       "      <td>0.0</td>\n",
       "      <td>0.0</td>\n",
       "      <td>high</td>\n",
       "      <td>0.0</td>\n",
       "      <td>non-sig</td>\n",
       "      <td>1.0</td>\n",
       "      <td>0.0</td>\n",
       "      <td>3.0</td>\n",
       "      <td>0</td>\n",
       "    </tr>\n",
       "  </tbody>\n",
       "</table>\n",
       "</div>"
      ],
      "text/plain": [
       "   age_m  sex  chestPain    tresbps_m       chol_m  fbs  restecg thalach_m  \\\n",
       "0  60-70  1.0        4.0      high bp         high  0.0      2.0  pre high   \n",
       "1  60-70  1.0        4.0     ideal bp  border high  0.0      2.0  pre high   \n",
       "2  30-40  1.0        3.0  pre_high bp         high  0.0      0.0      high   \n",
       "3  40-50  0.0        2.0  pre_high bp    desirable  0.0      2.0      high   \n",
       "4  50-60  1.0        2.0     ideal bp  border high  0.0      0.0      high   \n",
       "\n",
       "   exang        oldpk  slope   ca thal num_m  \n",
       "0    1.0      non-sig    2.0  3.0  3.0     1  \n",
       "1    1.0  significant    2.0  2.0  7.0     1  \n",
       "2    0.0  significant    3.0  0.0  3.0     0  \n",
       "3    0.0      non-sig    1.0  0.0  3.0     0  \n",
       "4    0.0      non-sig    1.0  0.0  3.0     0  "
      ]
     },
     "execution_count": 478,
     "metadata": {},
     "output_type": "execute_result"
    }
   ],
   "source": [
    "dataset.head()"
   ]
  },
  {
   "cell_type": "code",
   "execution_count": 479,
   "metadata": {},
   "outputs": [
    {
     "data": {
      "text/html": [
       "<div>\n",
       "<style scoped>\n",
       "    .dataframe tbody tr th:only-of-type {\n",
       "        vertical-align: middle;\n",
       "    }\n",
       "\n",
       "    .dataframe tbody tr th {\n",
       "        vertical-align: top;\n",
       "    }\n",
       "\n",
       "    .dataframe thead th {\n",
       "        text-align: right;\n",
       "    }\n",
       "</style>\n",
       "<table border=\"1\" class=\"dataframe\">\n",
       "  <thead>\n",
       "    <tr style=\"text-align: right;\">\n",
       "      <th></th>\n",
       "      <th>sex</th>\n",
       "      <th>chestPain</th>\n",
       "      <th>fbs</th>\n",
       "      <th>restecg</th>\n",
       "      <th>exang</th>\n",
       "      <th>slope</th>\n",
       "    </tr>\n",
       "  </thead>\n",
       "  <tbody>\n",
       "    <tr>\n",
       "      <th>sex</th>\n",
       "      <td>1.000000</td>\n",
       "      <td>0.015342</td>\n",
       "      <td>0.042863</td>\n",
       "      <td>0.019386</td>\n",
       "      <td>0.148019</td>\n",
       "      <td>0.032671</td>\n",
       "    </tr>\n",
       "    <tr>\n",
       "      <th>chestPain</th>\n",
       "      <td>0.015342</td>\n",
       "      <td>1.000000</td>\n",
       "      <td>-0.022524</td>\n",
       "      <td>0.075854</td>\n",
       "      <td>0.382394</td>\n",
       "      <td>0.171926</td>\n",
       "    </tr>\n",
       "    <tr>\n",
       "      <th>fbs</th>\n",
       "      <td>0.042863</td>\n",
       "      <td>-0.022524</td>\n",
       "      <td>1.000000</td>\n",
       "      <td>0.062202</td>\n",
       "      <td>0.031514</td>\n",
       "      <td>0.042630</td>\n",
       "    </tr>\n",
       "    <tr>\n",
       "      <th>restecg</th>\n",
       "      <td>0.019386</td>\n",
       "      <td>0.075854</td>\n",
       "      <td>0.062202</td>\n",
       "      <td>1.000000</td>\n",
       "      <td>0.087432</td>\n",
       "      <td>0.127603</td>\n",
       "    </tr>\n",
       "    <tr>\n",
       "      <th>exang</th>\n",
       "      <td>0.148019</td>\n",
       "      <td>0.382394</td>\n",
       "      <td>0.031514</td>\n",
       "      <td>0.087432</td>\n",
       "      <td>1.000000</td>\n",
       "      <td>0.265491</td>\n",
       "    </tr>\n",
       "    <tr>\n",
       "      <th>slope</th>\n",
       "      <td>0.032671</td>\n",
       "      <td>0.171926</td>\n",
       "      <td>0.042630</td>\n",
       "      <td>0.127603</td>\n",
       "      <td>0.265491</td>\n",
       "      <td>1.000000</td>\n",
       "    </tr>\n",
       "  </tbody>\n",
       "</table>\n",
       "</div>"
      ],
      "text/plain": [
       "                sex  chestPain       fbs   restecg     exang     slope\n",
       "sex        1.000000   0.015342  0.042863  0.019386  0.148019  0.032671\n",
       "chestPain  0.015342   1.000000 -0.022524  0.075854  0.382394  0.171926\n",
       "fbs        0.042863  -0.022524  1.000000  0.062202  0.031514  0.042630\n",
       "restecg    0.019386   0.075854  0.062202  1.000000  0.087432  0.127603\n",
       "exang      0.148019   0.382394  0.031514  0.087432  1.000000  0.265491\n",
       "slope      0.032671   0.171926  0.042630  0.127603  0.265491  1.000000"
      ]
     },
     "execution_count": 479,
     "metadata": {},
     "output_type": "execute_result"
    }
   ],
   "source": [
    "dataset.corr()\n",
    "#this is a non-correlated data..."
   ]
  },
  {
   "cell_type": "markdown",
   "metadata": {},
   "source": [
    "###### Now doing Bivariate Analysis"
   ]
  },
  {
   "cell_type": "code",
   "execution_count": 480,
   "metadata": {},
   "outputs": [
    {
     "data": {
      "text/plain": [
       "Text(0,0.5,'percentage of income categ')"
      ]
     },
     "execution_count": 480,
     "metadata": {},
     "output_type": "execute_result"
    },
    {
     "data": {
      "image/png": "[encoded data removed]",
      "text/plain": [
       "<matplotlib.figure.Figure at 0x1a24cb5898>"
      ]
     },
     "metadata": {},
     "output_type": "display_data"
    }
   ],
   "source": [
    "diff_catg_count=dataset['age_m'].value_counts()\n",
    "#diff_catg_count will give series with labels as categries of age_m and associated data as no. of counts of that label\n",
    "p=dataset.groupby(['age_m','num_m']).size()\n",
    "#p is series\n",
    "for categ in p.index.levels[0]:\n",
    "    for i in p[categ].index:\n",
    "        p[categ][i]=p[categ][i]/diff_catg_count[categ]*100\n",
    "p.unstack().plot(kind='bar',stacked=True)\n",
    "plt.ylabel('percentage of income categ')"
   ]
  },
  {
   "cell_type": "code",
   "execution_count": 481,
   "metadata": {},
   "outputs": [],
   "source": [
    "#since distribution is same in category 30-40 and 40-50 so we can combine them.\n",
    "dataset['age_m'].replace('30-40','40-50',inplace=True)"
   ]
  },
  {
   "cell_type": "code",
   "execution_count": 482,
   "metadata": {},
   "outputs": [
    {
     "data": {
      "text/plain": [
       "Text(0,0.5,'percentage of income categ')"
      ]
     },
     "execution_count": 482,
     "metadata": {},
     "output_type": "execute_result"
    },
    {
     "data": {
      "image/png": "[encoded data removed]",
      "text/plain": [
       "<matplotlib.figure.Figure at 0x1a24be0710>"
      ]
     },
     "metadata": {},
     "output_type": "display_data"
    }
   ],
   "source": [
    "diff_catg_count=dataset['sex'].value_counts()\n",
    "#diff_catg_count will give series with labels as categries of age_m and associated data as no. of counts of that label\n",
    "p=dataset.groupby(['sex','num_m']).size()\n",
    "#p is series\n",
    "for categ in p.index.levels[0]:\n",
    "    for i in p[categ].index:\n",
    "        p[categ][i]=p[categ][i]/diff_catg_count[categ]*100\n",
    "p.unstack().plot(kind='bar',stacked=True)\n",
    "plt.ylabel('percentage of income categ')"
   ]
  },
  {
   "cell_type": "code",
   "execution_count": 483,
   "metadata": {},
   "outputs": [
    {
     "data": {
      "text/plain": [
       "Text(0,0.5,'percentage of income categ')"
      ]
     },
     "execution_count": 483,
     "metadata": {},
     "output_type": "execute_result"
    },
    {
     "data": {
      "image/png": "[encoded data removed]",
      "text/plain": [
       "<matplotlib.figure.Figure at 0x1a24da6d68>"
      ]
     },
     "metadata": {},
     "output_type": "display_data"
    }
   ],
   "source": [
    "diff_catg_count=dataset['chestPain'].value_counts()\n",
    "#diff_catg_count will give series with labels as categries of age_m and associated data as no. of counts of that label\n",
    "p=dataset.groupby(['chestPain','num_m']).size()\n",
    "#p is series\n",
    "for categ in p.index.levels[0]:\n",
    "    for i in p[categ].index:\n",
    "        p[categ][i]=p[categ][i]/diff_catg_count[categ]*100\n",
    "p.unstack().plot(kind='bar',stacked=True)\n",
    "plt.ylabel('percentage of income categ')"
   ]
  },
  {
   "cell_type": "code",
   "execution_count": 484,
   "metadata": {},
   "outputs": [],
   "source": [
    "dataset.chestPain.replace('2.0','3.0',inplace=True)"
   ]
  },
  {
   "cell_type": "code",
   "execution_count": 485,
   "metadata": {},
   "outputs": [
    {
     "data": {
      "text/plain": [
       "Text(0,0.5,'percentage of income categ')"
      ]
     },
     "execution_count": 485,
     "metadata": {},
     "output_type": "execute_result"
    },
    {
     "data": {
      "image/png": "[encoded data removed]",
      "text/plain": [
       "<matplotlib.figure.Figure at 0x1a24be6128>"
      ]
     },
     "metadata": {},
     "output_type": "display_data"
    }
   ],
   "source": [
    "diff_catg_count=dataset['tresbps_m'].value_counts()\n",
    "#diff_catg_count will give series with labels as categries of age_m and associated data as no. of counts of that label\n",
    "p=dataset.groupby(['tresbps_m','num_m']).size()\n",
    "#p is series\n",
    "for categ in p.index.levels[0]:\n",
    "    for i in p[categ].index:\n",
    "        p[categ][i]=p[categ][i]/diff_catg_count[categ]*100\n",
    "p.unstack().plot(kind='bar',stacked=True)\n",
    "plt.ylabel('percentage of income categ')"
   ]
  },
  {
   "cell_type": "code",
   "execution_count": 486,
   "metadata": {},
   "outputs": [
    {
     "data": {
      "text/plain": [
       "Text(0,0.5,'percentage of income categ')"
      ]
     },
     "execution_count": 486,
     "metadata": {},
     "output_type": "execute_result"
    },
    {
     "data": {
      "image/png": "[encoded data removed]",
      "text/plain": [
       "<matplotlib.figure.Figure at 0x1a24f57828>"
      ]
     },
     "metadata": {},
     "output_type": "display_data"
    }
   ],
   "source": [
    "diff_catg_count=dataset['chol_m'].value_counts()\n",
    "#diff_catg_count will give series with labels as categries of age_m and associated data as no. of counts of that label\n",
    "p=dataset.groupby(['chol_m','num_m']).size()\n",
    "#p is series\n",
    "for categ in p.index.levels[0]:\n",
    "    for i in p[categ].index:\n",
    "        p[categ][i]=p[categ][i]/diff_catg_count[categ]*100\n",
    "p.unstack().plot(kind='bar',stacked=True)\n",
    "plt.ylabel('percentage of income categ')"
   ]
  },
  {
   "cell_type": "code",
   "execution_count": 487,
   "metadata": {},
   "outputs": [],
   "source": [
    "dataset['chol_m'].replace('desirable','border high',inplace=True)"
   ]
  },
  {
   "cell_type": "code",
   "execution_count": 488,
   "metadata": {},
   "outputs": [
    {
     "data": {
      "text/html": [
       "<div>\n",
       "<style scoped>\n",
       "    .dataframe tbody tr th:only-of-type {\n",
       "        vertical-align: middle;\n",
       "    }\n",
       "\n",
       "    .dataframe tbody tr th {\n",
       "        vertical-align: top;\n",
       "    }\n",
       "\n",
       "    .dataframe thead th {\n",
       "        text-align: right;\n",
       "    }\n",
       "</style>\n",
       "<table border=\"1\" class=\"dataframe\">\n",
       "  <thead>\n",
       "    <tr style=\"text-align: right;\">\n",
       "      <th></th>\n",
       "      <th>age_m</th>\n",
       "      <th>sex</th>\n",
       "      <th>chestPain</th>\n",
       "      <th>tresbps_m</th>\n",
       "      <th>chol_m</th>\n",
       "      <th>fbs</th>\n",
       "      <th>restecg</th>\n",
       "      <th>thalach_m</th>\n",
       "      <th>exang</th>\n",
       "      <th>oldpk</th>\n",
       "      <th>slope</th>\n",
       "      <th>ca</th>\n",
       "      <th>thal</th>\n",
       "      <th>num_m</th>\n",
       "    </tr>\n",
       "  </thead>\n",
       "  <tbody>\n",
       "    <tr>\n",
       "      <th>0</th>\n",
       "      <td>60-70</td>\n",
       "      <td>1.0</td>\n",
       "      <td>4.0</td>\n",
       "      <td>high bp</td>\n",
       "      <td>high</td>\n",
       "      <td>0.0</td>\n",
       "      <td>2.0</td>\n",
       "      <td>pre high</td>\n",
       "      <td>1.0</td>\n",
       "      <td>non-sig</td>\n",
       "      <td>2.0</td>\n",
       "      <td>3.0</td>\n",
       "      <td>3.0</td>\n",
       "      <td>1</td>\n",
       "    </tr>\n",
       "    <tr>\n",
       "      <th>1</th>\n",
       "      <td>60-70</td>\n",
       "      <td>1.0</td>\n",
       "      <td>4.0</td>\n",
       "      <td>ideal bp</td>\n",
       "      <td>border high</td>\n",
       "      <td>0.0</td>\n",
       "      <td>2.0</td>\n",
       "      <td>pre high</td>\n",
       "      <td>1.0</td>\n",
       "      <td>significant</td>\n",
       "      <td>2.0</td>\n",
       "      <td>2.0</td>\n",
       "      <td>7.0</td>\n",
       "      <td>1</td>\n",
       "    </tr>\n",
       "    <tr>\n",
       "      <th>2</th>\n",
       "      <td>40-50</td>\n",
       "      <td>1.0</td>\n",
       "      <td>3.0</td>\n",
       "      <td>pre_high bp</td>\n",
       "      <td>high</td>\n",
       "      <td>0.0</td>\n",
       "      <td>0.0</td>\n",
       "      <td>high</td>\n",
       "      <td>0.0</td>\n",
       "      <td>significant</td>\n",
       "      <td>3.0</td>\n",
       "      <td>0.0</td>\n",
       "      <td>3.0</td>\n",
       "      <td>0</td>\n",
       "    </tr>\n",
       "    <tr>\n",
       "      <th>3</th>\n",
       "      <td>40-50</td>\n",
       "      <td>0.0</td>\n",
       "      <td>2.0</td>\n",
       "      <td>pre_high bp</td>\n",
       "      <td>border high</td>\n",
       "      <td>0.0</td>\n",
       "      <td>2.0</td>\n",
       "      <td>high</td>\n",
       "      <td>0.0</td>\n",
       "      <td>non-sig</td>\n",
       "      <td>1.0</td>\n",
       "      <td>0.0</td>\n",
       "      <td>3.0</td>\n",
       "      <td>0</td>\n",
       "    </tr>\n",
       "    <tr>\n",
       "      <th>4</th>\n",
       "      <td>50-60</td>\n",
       "      <td>1.0</td>\n",
       "      <td>2.0</td>\n",
       "      <td>ideal bp</td>\n",
       "      <td>border high</td>\n",
       "      <td>0.0</td>\n",
       "      <td>0.0</td>\n",
       "      <td>high</td>\n",
       "      <td>0.0</td>\n",
       "      <td>non-sig</td>\n",
       "      <td>1.0</td>\n",
       "      <td>0.0</td>\n",
       "      <td>3.0</td>\n",
       "      <td>0</td>\n",
       "    </tr>\n",
       "  </tbody>\n",
       "</table>\n",
       "</div>"
      ],
      "text/plain": [
       "   age_m  sex  chestPain    tresbps_m       chol_m  fbs  restecg thalach_m  \\\n",
       "0  60-70  1.0        4.0      high bp         high  0.0      2.0  pre high   \n",
       "1  60-70  1.0        4.0     ideal bp  border high  0.0      2.0  pre high   \n",
       "2  40-50  1.0        3.0  pre_high bp         high  0.0      0.0      high   \n",
       "3  40-50  0.0        2.0  pre_high bp  border high  0.0      2.0      high   \n",
       "4  50-60  1.0        2.0     ideal bp  border high  0.0      0.0      high   \n",
       "\n",
       "   exang        oldpk  slope   ca thal num_m  \n",
       "0    1.0      non-sig    2.0  3.0  3.0     1  \n",
       "1    1.0  significant    2.0  2.0  7.0     1  \n",
       "2    0.0  significant    3.0  0.0  3.0     0  \n",
       "3    0.0      non-sig    1.0  0.0  3.0     0  \n",
       "4    0.0      non-sig    1.0  0.0  3.0     0  "
      ]
     },
     "execution_count": 488,
     "metadata": {},
     "output_type": "execute_result"
    }
   ],
   "source": [
    "dataset.head()"
   ]
  },
  {
   "cell_type": "code",
   "execution_count": 489,
   "metadata": {},
   "outputs": [
    {
     "data": {
      "text/plain": [
       "Text(0,0.5,'percentage of income categ')"
      ]
     },
     "execution_count": 489,
     "metadata": {},
     "output_type": "execute_result"
    },
    {
     "data": {
      "image/png": "[encoded data removed]",
      "text/plain": [
       "<matplotlib.figure.Figure at 0x1a250e2cf8>"
      ]
     },
     "metadata": {},
     "output_type": "display_data"
    }
   ],
   "source": [
    "diff_catg_count=dataset['fbs'].value_counts()\n",
    "#diff_catg_count will give series with labels as categries of age_m and associated data as no. of counts of that label\n",
    "p=dataset.groupby(['fbs','num_m']).size()\n",
    "#p is series\n",
    "for categ in p.index.levels[0]:\n",
    "    for i in p[categ].index:\n",
    "        p[categ][i]=p[categ][i]/diff_catg_count[categ]*100\n",
    "p.unstack().plot(kind='bar',stacked=True)\n",
    "plt.ylabel('percentage of income categ')"
   ]
  },
  {
   "cell_type": "code",
   "execution_count": 490,
   "metadata": {},
   "outputs": [],
   "source": [
    "dataset.drop(labels='fbs',axis=1,inplace=True)"
   ]
  },
  {
   "cell_type": "code",
   "execution_count": 491,
   "metadata": {},
   "outputs": [
    {
     "data": {
      "text/plain": [
       "Text(0,0.5,'percentage of income categ')"
      ]
     },
     "execution_count": 491,
     "metadata": {},
     "output_type": "execute_result"
    },
    {
     "data": {
      "image/png": "[encoded data removed]",
      "text/plain": [
       "<matplotlib.figure.Figure at 0x1a251331d0>"
      ]
     },
     "metadata": {},
     "output_type": "display_data"
    }
   ],
   "source": [
    "diff_catg_count=dataset['restecg'].value_counts()\n",
    "#diff_catg_count will give series with labels as categries of age_m and associated data as no. of counts of that label\n",
    "p=dataset.groupby(['restecg','num_m']).size()\n",
    "#p is series\n",
    "for categ in p.index.levels[0]:\n",
    "    for i in p[categ].index:\n",
    "        p[categ][i]=p[categ][i]/diff_catg_count[categ]*100\n",
    "p.unstack().plot(kind='bar',stacked=True)\n",
    "plt.ylabel('percentage of income categ')"
   ]
  },
  {
   "cell_type": "code",
   "execution_count": 492,
   "metadata": {},
   "outputs": [
    {
     "data": {
      "text/plain": [
       "Text(0,0.5,'percentage of income categ')"
      ]
     },
     "execution_count": 492,
     "metadata": {},
     "output_type": "execute_result"
    },
    {
     "data": {
      "image/png": "[encoded data removed]",
      "text/plain": [
       "<matplotlib.figure.Figure at 0x1a2511b2e8>"
      ]
     },
     "metadata": {},
     "output_type": "display_data"
    }
   ],
   "source": [
    "diff_catg_count=dataset['thalach_m'].value_counts()\n",
    "#diff_catg_count will give series with labels as categries of age_m and associated data as no. of counts of that label\n",
    "p=dataset.groupby(['thalach_m','num_m']).size()\n",
    "#p is series\n",
    "for categ in p.index.levels[0]:\n",
    "    for i in p[categ].index:\n",
    "        p[categ][i]=p[categ][i]/diff_catg_count[categ]*100\n",
    "p.unstack().plot(kind='bar',stacked=True)\n",
    "plt.ylabel('percentage of income categ')"
   ]
  },
  {
   "cell_type": "code",
   "execution_count": 493,
   "metadata": {},
   "outputs": [
    {
     "data": {
      "text/plain": [
       "Text(0,0.5,'percentage of income categ')"
      ]
     },
     "execution_count": 493,
     "metadata": {},
     "output_type": "execute_result"
    },
    {
     "data": {
      "image/png": "[encoded data removed]",
      "text/plain": [
       "<matplotlib.figure.Figure at 0x1a252c77b8>"
      ]
     },
     "metadata": {},
     "output_type": "display_data"
    }
   ],
   "source": [
    "diff_catg_count=dataset['exang'].value_counts()\n",
    "#diff_catg_count will give series with labels as categries of age_m and associated data as no. of counts of that label\n",
    "p=dataset.groupby(['exang','num_m']).size()\n",
    "#p is series\n",
    "for categ in p.index.levels[0]:\n",
    "    for i in p[categ].index:\n",
    "        p[categ][i]=p[categ][i]/diff_catg_count[categ]*100\n",
    "p.unstack().plot(kind='bar',stacked=True)\n",
    "plt.ylabel('percentage of income categ')"
   ]
  },
  {
   "cell_type": "code",
   "execution_count": 494,
   "metadata": {},
   "outputs": [
    {
     "data": {
      "text/plain": [
       "Text(0,0.5,'percentage of income categ')"
      ]
     },
     "execution_count": 494,
     "metadata": {},
     "output_type": "execute_result"
    },
    {
     "data": {
      "image/png": "[encoded data removed]",
      "text/plain": [
       "<matplotlib.figure.Figure at 0x1a253ad6a0>"
      ]
     },
     "metadata": {},
     "output_type": "display_data"
    }
   ],
   "source": [
    "diff_catg_count=dataset['oldpk'].value_counts()\n",
    "#diff_catg_count will give series with labels as categries of age_m and associated data as no. of counts of that label\n",
    "p=dataset.groupby(['oldpk','num_m']).size()\n",
    "#p is series\n",
    "for categ in p.index.levels[0]:\n",
    "    for i in p[categ].index:\n",
    "        p[categ][i]=p[categ][i]/diff_catg_count[categ]*100\n",
    "p.unstack().plot(kind='bar',stacked=True)\n",
    "plt.ylabel('percentage of income categ')"
   ]
  },
  {
   "cell_type": "code",
   "execution_count": 495,
   "metadata": {},
   "outputs": [
    {
     "data": {
      "text/plain": [
       "Text(0,0.5,'percentage of income categ')"
      ]
     },
     "execution_count": 495,
     "metadata": {},
     "output_type": "execute_result"
    },
    {
     "data": {
      "image/png": "[encoded data removed]",
      "text/plain": [
       "<matplotlib.figure.Figure at 0x1a25467588>"
      ]
     },
     "metadata": {},
     "output_type": "display_data"
    }
   ],
   "source": [
    "diff_catg_count=dataset['slope'].value_counts()\n",
    "#diff_catg_count will give series with labels as categries of age_m and associated data as no. of counts of that label\n",
    "p=dataset.groupby(['slope','num_m']).size()\n",
    "#p is series\n",
    "for categ in p.index.levels[0]:\n",
    "    for i in p[categ].index:\n",
    "        p[categ][i]=p[categ][i]/diff_catg_count[categ]*100\n",
    "p.unstack().plot(kind='bar',stacked=True)\n",
    "plt.ylabel('percentage of income categ')"
   ]
  },
  {
   "cell_type": "code",
   "execution_count": 496,
   "metadata": {},
   "outputs": [
    {
     "data": {
      "text/plain": [
       "Text(0,0.5,'percentage of income categ')"
      ]
     },
     "execution_count": 496,
     "metadata": {},
     "output_type": "execute_result"
    },
    {
     "data": {
      "image/png": "[encoded data removed]",
      "text/plain": [
       "<matplotlib.figure.Figure at 0x1a2555a6d8>"
      ]
     },
     "metadata": {},
     "output_type": "display_data"
    }
   ],
   "source": [
    "diff_catg_count=dataset['ca'].value_counts()\n",
    "#diff_catg_count will give series with labels as categries of age_m and associated data as no. of counts of that label\n",
    "p=dataset.groupby(['ca','num_m']).size()\n",
    "#p is series\n",
    "for categ in p.index.levels[0]:\n",
    "    for i in p[categ].index:\n",
    "        p[categ][i]=p[categ][i]/diff_catg_count[categ]*100\n",
    "p.unstack().plot(kind='bar',stacked=True)\n",
    "plt.ylabel('percentage of income categ')"
   ]
  },
  {
   "cell_type": "code",
   "execution_count": 497,
   "metadata": {},
   "outputs": [
    {
     "data": {
      "text/plain": [
       "Text(0,0.5,'percentage of income categ')"
      ]
     },
     "execution_count": 497,
     "metadata": {},
     "output_type": "execute_result"
    },
    {
     "data": {
      "image/png": "[encoded data removed]",
      "text/plain": [
       "<matplotlib.figure.Figure at 0x1a2563c550>"
      ]
     },
     "metadata": {},
     "output_type": "display_data"
    }
   ],
   "source": [
    "diff_catg_count=dataset['thal'].value_counts()\n",
    "#diff_catg_count will give series with labels as categries of age_m and associated data as no. of counts of that label\n",
    "p=dataset.groupby(['thal','num_m']).size()\n",
    "#p is series\n",
    "for categ in p.index.levels[0]:\n",
    "    for i in p[categ].index:\n",
    "        p[categ][i]=p[categ][i]/diff_catg_count[categ]*100\n",
    "p.unstack().plot(kind='bar',stacked=True)\n",
    "plt.ylabel('percentage of income categ')"
   ]
  },
  {
   "cell_type": "code",
   "execution_count": 499,
   "metadata": {},
   "outputs": [],
   "source": [
    "features=list(dataset.columns)\n",
    "features.remove('num_m')\n",
    "X=dataset[features].copy()\n",
    "Y=dataset['num_m']"
   ]
  },
  {
   "cell_type": "markdown",
   "metadata": {},
   "source": [
    "###### Label Encoding"
   ]
  },
  {
   "cell_type": "code",
   "execution_count": 500,
   "metadata": {},
   "outputs": [],
   "source": [
    "lb = preprocessing.LabelEncoder()\n",
    "for feature in features:\n",
    "    X[feature]=lb.fit_transform(X[feature])"
   ]
  },
  {
   "cell_type": "markdown",
   "metadata": {},
   "source": [
    "###### One Hot Encoding"
   ]
  },
  {
   "cell_type": "code",
   "execution_count": 501,
   "metadata": {},
   "outputs": [],
   "source": [
    "X=pd.get_dummies(X,columns=features)"
   ]
  },
  {
   "cell_type": "code",
   "execution_count": 502,
   "metadata": {},
   "outputs": [
    {
     "data": {
      "text/plain": [
       "Index(['age_m', 'sex', 'chestPain', 'tresbps_m', 'chol_m', 'restecg',\n",
       "       'thalach_m', 'exang', 'oldpk', 'slope', 'ca', 'thal', 'num_m'],\n",
       "      dtype='object')"
      ]
     },
     "execution_count": 502,
     "metadata": {},
     "output_type": "execute_result"
    }
   ],
   "source": [
    "dataset.columns"
   ]
  },
  {
   "cell_type": "markdown",
   "metadata": {},
   "source": [
    "###### Train Test Split"
   ]
  },
  {
   "cell_type": "code",
   "execution_count": 503,
   "metadata": {},
   "outputs": [],
   "source": [
    "train_x,test_x,train_y,test_y=train_test_split(X,Y,test_size=0.20,random_state=9)"
   ]
  },
  {
   "cell_type": "markdown",
   "metadata": {},
   "source": [
    "###### Building Model"
   ]
  },
  {
   "cell_type": "code",
   "execution_count": 504,
   "metadata": {},
   "outputs": [
    {
     "data": {
      "text/plain": [
       "LogisticRegression(C=1.0, class_weight=None, dual=False, fit_intercept=True,\n",
       "          intercept_scaling=1, max_iter=100, multi_class='ovr', n_jobs=1,\n",
       "          penalty='l2', random_state=None, solver='liblinear', tol=0.0001,\n",
       "          verbose=0, warm_start=False)"
      ]
     },
     "execution_count": 504,
     "metadata": {},
     "output_type": "execute_result"
    }
   ],
   "source": [
    "logreg = LogisticRegression()\n",
    "logreg.fit(train_x,train_y)"
   ]
  },
  {
   "cell_type": "code",
   "execution_count": 505,
   "metadata": {},
   "outputs": [
    {
     "data": {
      "text/plain": [
       "0.8796680497925311"
      ]
     },
     "execution_count": 505,
     "metadata": {},
     "output_type": "execute_result"
    }
   ],
   "source": [
    "logreg.score(train_x,train_y)"
   ]
  },
  {
   "cell_type": "code",
   "execution_count": 507,
   "metadata": {},
   "outputs": [
    {
     "name": "stdout",
     "output_type": "stream",
     "text": [
      "             precision    recall  f1-score   support\n",
      "\n",
      "          0       0.82      0.90      0.86        31\n",
      "          1       0.89      0.80      0.84        30\n",
      "\n",
      "avg / total       0.86      0.85      0.85        61\n",
      "\n",
      "accuracy_score is on test data:  0.8524590163934426\n"
     ]
    }
   ],
   "source": [
    "predicted_y=logreg.predict(test_x)\n",
    "print(classification_report(test_y,predicted_y))\n",
    "print('accuracy_score is on test data: ',accuracy_score(test_y,predicted_y))"
   ]
  },
  {
   "cell_type": "code",
   "execution_count": 509,
   "metadata": {},
   "outputs": [
    {
     "data": {
      "text/plain": [
       "Text(0.5,24,'predicted class')"
      ]
     },
     "execution_count": 509,
     "metadata": {},
     "output_type": "execute_result"
    },
    {
     "data": {
      "image/png": "[encoded data removed]",
      "text/plain": [
       "<matplotlib.figure.Figure at 0x1a258bbb38>"
      ]
     },
     "metadata": {},
     "output_type": "display_data"
    }
   ],
   "source": [
    "plt.figure(figsize=(5,5))\n",
    "sns.heatmap(confusion_matrix(test_y,predicted_y),annot=True,fmt='.5g')\n",
    "plt.ylabel('actual class')\n",
    "plt.xlabel('predicted class')"
   ]
  }
 ],
 "metadata": {
  "kernelspec": {
   "display_name": "Python 3",
   "language": "python",
   "name": "python3"
  }
 },
 "nbformat": 4,
 "nbformat_minor": 2
}
